{
 "cells": [
  {
   "cell_type": "code",
   "execution_count": null,
   "id": "8c1a07d8",
   "metadata": {},
   "outputs": [],
   "source": [
    "# Notebook"
   ]
  },
  {
   "cell_type": "code",
   "execution_count": null,
   "id": "91c789d5",
   "metadata": {},
   "outputs": [],
   "source": [
    "# Introduction\n",
    "This notebook contains various topics regarding data science, programming languages,libraries,tools, also arithmetic expressions."
   ]
  },
  {
   "cell_type": "code",
   "execution_count": null,
   "id": "fa55b8a4",
   "metadata": {},
   "outputs": [],
   "source": [
    "# Data Science Languages\n",
    " Python, R, SQL"
   ]
  },
  {
   "cell_type": "code",
   "execution_count": null,
   "id": "48874378",
   "metadata": {},
   "outputs": [],
   "source": [
    "# Data Science Libraries\n",
    " NumPy, pandas ,Matplotlib ,Seaborn ,scikit-learn, PyTorch"
   ]
  },
  {
   "cell_type": "code",
   "execution_count": null,
   "id": "846e33fa",
   "metadata": {},
   "outputs": [],
   "source": [
    "# Data science tools\n",
    "data visualisation - tableau , power BI\n",
    "Database - MySQL, PostgreSQL\n",
    "Cloud computing - Azure"
   ]
  },
  {
   "cell_type": "code",
   "execution_count": null,
   "id": "24e68041",
   "metadata": {},
   "outputs": [],
   "source": [
    "# Arithmetic Expression \n",
    "Examples of arithmetic expressins are addition,subtraction, multipication"
   ]
  },
  {
   "cell_type": "code",
   "execution_count": null,
   "id": "b8b0708a",
   "metadata": {},
   "outputs": [],
   "source": [
    "# Multiplication and addition \n",
    "x = 68\n",
    "y = 45\n",
    "product = x * y\n",
    "add = x + y\n",
    "print(\"Multiplication = \", product)\n",
    "print(\"Addition = \", add)"
   ]
  },
  {
   "cell_type": "code",
   "execution_count": null,
   "id": "d95fd46b",
   "metadata": {},
   "outputs": [],
   "source": [
    "# minutes to hours\n",
    "minutes = 690\n",
    "hours = minutes / 60\n",
    "print(minutes, \"minutes is equal to\", hours, \"hours\")"
   ]
  },
  {
   "cell_type": "code",
   "execution_count": null,
   "id": "1e124bfe",
   "metadata": {},
   "outputs": [],
   "source": [
    "# objectives are\n",
    "1 To know popular data science languages plus libraries.\n",
    "2 To learn about data science tools \n",
    "3 Understanding basic arithmetic expressions\n",
    "4 Perform calculations using Python.\n",
    "5 Convert minutes to hours"
   ]
  },
  {
   "cell_type": "code",
   "execution_count": null,
   "id": "5db02848",
   "metadata": {},
   "outputs": [],
   "source": [
    "#Author - rupesh ~"
   ]
  }
 ],
 "metadata": {
  "kernelspec": {
   "display_name": "Python 3 (ipykernel)",
   "language": "python",
   "name": "python3"
  },
  "language_info": {
   "codemirror_mode": {
    "name": "ipython",
    "version": 3
   },
   "file_extension": ".py",
   "mimetype": "text/x-python",
   "name": "python",
   "nbconvert_exporter": "python",
   "pygments_lexer": "ipython3",
   "version": "3.9.7"
  }
 },
 "nbformat": 4,
 "nbformat_minor": 5
}
